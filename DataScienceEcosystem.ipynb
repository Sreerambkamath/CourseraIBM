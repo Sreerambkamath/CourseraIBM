{
 "cells": [
  {
   "cell_type": "markdown",
   "id": "17de5660-dd7d-479c-8a5a-3c909399196e",
   "metadata": {},
   "source": [
    "# Data Science Tools and Ecosystems"
   ]
  },
  {
   "cell_type": "markdown",
   "id": "9598725d-ae18-48bb-ae36-62253af98cce",
   "metadata": {},
   "source": [
    "#### In this notebook, Data Science Tools and Ecosystems are summarized"
   ]
  },
  {
   "cell_type": "markdown",
   "id": "b730e5ab-5a53-4453-86b9-b5501548d78c",
   "metadata": {},
   "source": [
    "**OBJECTIVES :**\n",
    "\n",
    "- List of popular languages of Data Science\n",
    "- List of popular Data Science tools\n",
    "- List of popular Data Science Libraries"
   ]
  },
  {
   "cell_type": "markdown",
   "id": "864b0482-a032-420a-b3cb-1a9e2327f239",
   "metadata": {},
   "source": [
    "Some of the popular languages that Data Scientists use are:\n",
    "\n",
    "1. Python\n",
    "2. R\n",
    "3. Java\n",
    "4. SQL"
   ]
  },
  {
   "cell_type": "markdown",
   "id": "40cf8325-bbd5-4975-8a0c-286a4c75102c",
   "metadata": {},
   "source": [
    "Some of the commonly used libraries used by Data Scientists include:\n",
    "\n",
    "1. ggplot (R)\n",
    "2. Pandas (Python)\n",
    "3. NumPy (Python)"
   ]
  },
  {
   "cell_type": "markdown",
   "id": "cd40ddb7-4b35-475e-b036-ba9901faf6c5",
   "metadata": {},
   "source": [
    "| Data Science Tools |\n",
    "|--------------------|\n",
    "| Apache Spark |\n",
    "| ModelDB |\n",
    "| PixieDust |"
   ]
  },
  {
   "cell_type": "markdown",
   "id": "a55eb216-dfb9-4b01-bc69-5bb19b816e2b",
   "metadata": {},
   "source": [
    "### Below are a few examples of evaluating arithmetic expressions in Python"
   ]
  },
  {
   "cell_type": "code",
   "execution_count": 5,
   "id": "e9827e1a-8fc4-42a4-8650-d47558fa8ffb",
   "metadata": {
    "tags": []
   },
   "outputs": [
    {
     "data": {
      "text/plain": [
       "17"
      ]
     },
     "execution_count": 5,
     "metadata": {},
     "output_type": "execute_result"
    }
   ],
   "source": [
    "#This a simple arithmetic expression to mutiply then add integers\n",
    "\n",
    "(3*4)+5"
   ]
  },
  {
   "cell_type": "code",
   "execution_count": 6,
   "id": "69795379-765b-429a-a2d2-6a0b19115fdb",
   "metadata": {
    "tags": []
   },
   "outputs": [
    {
     "data": {
      "text/plain": [
       "3.3333333333333335"
      ]
     },
     "execution_count": 6,
     "metadata": {},
     "output_type": "execute_result"
    }
   ],
   "source": [
    "#This will convert 200 minutes to hours by diving by 60\n",
    "\n",
    "200/60"
   ]
  },
  {
   "cell_type": "markdown",
   "id": "fa257668-55a5-4f51-999d-a5e0d577ede9",
   "metadata": {},
   "source": [
    "## AUTHOR\n",
    "\n",
    "SREERAM B KAMATH"
   ]
  },
  {
   "cell_type": "code",
   "execution_count": null,
   "id": "bf45fca4-ee69-4c2b-a3df-6bb731de0303",
   "metadata": {},
   "outputs": [],
   "source": []
  }
 ],
 "metadata": {
  "kernelspec": {
   "display_name": "Python",
   "language": "python",
   "name": "conda-env-python-py"
  },
  "language_info": {
   "codemirror_mode": {
    "name": "ipython",
    "version": 3
   },
   "file_extension": ".py",
   "mimetype": "text/x-python",
   "name": "python",
   "nbconvert_exporter": "python",
   "pygments_lexer": "ipython3",
   "version": "3.7.12"
  }
 },
 "nbformat": 4,
 "nbformat_minor": 5
}
